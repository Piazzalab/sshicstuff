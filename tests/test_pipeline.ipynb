{
 "cells": [
  {
   "cell_type": "code",
   "execution_count": 1,
   "id": "initial_id",
   "metadata": {},
   "outputs": [],
   "source": [
    "import os\n",
    "os.environ['NUMEXPR_MAX_THREADS'] = '4'\n",
    "os.environ.pop(\"MPLBACKEND\", None)\n",
    "\n",
    "import sys\n",
    "from sshicstuff import main as _entrypoint\n",
    "from Bio import SeqIO\n",
    "import pandas as pd\n",
    "from os.path import join"
   ]
  },
  {
   "cell_type": "code",
   "execution_count": 2,
   "id": "7309c195-08b1-4c3e-9fa4-b1eb66d0a029",
   "metadata": {},
   "outputs": [
    {
     "ename": "NameError",
     "evalue": "name 'DATA_DIR' is not defined",
     "output_type": "error",
     "traceback": [
      "\u001b[31m---------------------------------------------------------------------------\u001b[39m",
      "\u001b[31mNameError\u001b[39m                                 Traceback (most recent call last)",
      "\u001b[36mCell\u001b[39m\u001b[36m \u001b[39m\u001b[32mIn[2]\u001b[39m\u001b[32m, line 2\u001b[39m\n\u001b[32m      1\u001b[39m ARGS = [\n\u001b[32m----> \u001b[39m\u001b[32m2\u001b[39m     \u001b[33m\"\u001b[39m\u001b[33m-m\u001b[39m\u001b[33m\"\u001b[39m, join(\u001b[43mDATA_DIR\u001b[49m, \u001b[33m\"\u001b[39m\u001b[33mAD241_S288c_DSB_LY_Capture_artificial_v8_cutsite_q20_PCRfree.txt\u001b[39m\u001b[33m\"\u001b[39m),\n\u001b[32m      3\u001b[39m     \u001b[33m\"\u001b[39m\u001b[33m-c\u001b[39m\u001b[33m\"\u001b[39m, join(DATA_DIR, \u001b[33m\"\u001b[39m\u001b[33mcapture_oligo_positions_v12.csv\u001b[39m\u001b[33m\"\u001b[39m),\n\u001b[32m      4\u001b[39m     \u001b[33m\"\u001b[39m\u001b[33m-C\u001b[39m\u001b[33m\"\u001b[39m, join(DATA_DIR, \u001b[33m\"\u001b[39m\u001b[33mS288c_chr_centro_coordinates_S288c_DSB_LY_Capture_artificial_v12.tsv\u001b[39m\u001b[33m\"\u001b[39m),\n\u001b[32m      5\u001b[39m     \u001b[33m\"\u001b[39m\u001b[33m-f\u001b[39m\u001b[33m\"\u001b[39m, join(DATA_DIR, \u001b[33m\"\u001b[39m\u001b[33mfragments_list_S288c_DSB_LY_Capture_artificial_v12_DpnIIHinfI.txt\u001b[39m\u001b[33m\"\u001b[39m),\n\u001b[32m      6\u001b[39m     \u001b[33m\"\u001b[39m\u001b[33m-a\u001b[39m\u001b[33m\"\u001b[39m, join(DATA_DIR, \u001b[33m\"\u001b[39m\u001b[33madditional_probe_groups.tsv\u001b[39m\u001b[33m\"\u001b[39m),\n\u001b[32m      7\u001b[39m     \u001b[33m\"\u001b[39m\u001b[33m-n\u001b[39m\u001b[33m\"\u001b[39m, \u001b[33m\"\u001b[39m\u001b[33m2\u001b[39m\u001b[33m\"\u001b[39m,\n\u001b[32m      8\u001b[39m     \u001b[33m\"\u001b[39m\u001b[33m-I\u001b[39m\u001b[33m\"\u001b[39m,\n\u001b[32m      9\u001b[39m     \u001b[33m\"\u001b[39m\u001b[33m-N\u001b[39m\u001b[33m\"\u001b[39m,\n\u001b[32m     10\u001b[39m     \u001b[33m\"\u001b[39m\u001b[33m-o\u001b[39m\u001b[33m\"\u001b[39m, OUTPUT_DIR,\n\u001b[32m     11\u001b[39m     \u001b[33m\"\u001b[39m\u001b[33m-b\u001b[39m\u001b[33m\"\u001b[39m, \u001b[33m\"\u001b[39m\u001b[33m1000\u001b[39m\u001b[33m\"\u001b[39m,\n\u001b[32m     12\u001b[39m     \u001b[33m\"\u001b[39m\u001b[33m-b\u001b[39m\u001b[33m\"\u001b[39m, \u001b[33m\"\u001b[39m\u001b[33m2000\u001b[39m\u001b[33m\"\u001b[39m,\n\u001b[32m     13\u001b[39m     \u001b[33m\"\u001b[39m\u001b[33m-b\u001b[39m\u001b[33m\"\u001b[39m, \u001b[33m\"\u001b[39m\u001b[33m5000\u001b[39m\u001b[33m\"\u001b[39m,\n\u001b[32m     14\u001b[39m     \u001b[33m\"\u001b[39m\u001b[33m-b\u001b[39m\u001b[33m\"\u001b[39m, \u001b[33m\"\u001b[39m\u001b[33m10000\u001b[39m\u001b[33m\"\u001b[39m,\n\u001b[32m     15\u001b[39m     \u001b[33m\"\u001b[39m\u001b[33m--binning-aggregate-cen\u001b[39m\u001b[33m\"\u001b[39m, \u001b[33m\"\u001b[39m\u001b[33m10000\u001b[39m\u001b[33m\"\u001b[39m,\n\u001b[32m     16\u001b[39m     \u001b[33m\"\u001b[39m\u001b[33m--binning-aggregate-telo\u001b[39m\u001b[33m\"\u001b[39m, \u001b[33m\"\u001b[39m\u001b[33m1000\u001b[39m\u001b[33m\"\u001b[39m,\n\u001b[32m     17\u001b[39m     \u001b[33m\"\u001b[39m\u001b[33m--window-size-cen\u001b[39m\u001b[33m\"\u001b[39m, \u001b[33m\"\u001b[39m\u001b[33m150000\u001b[39m\u001b[33m\"\u001b[39m,\n\u001b[32m     18\u001b[39m     \u001b[33m\"\u001b[39m\u001b[33m--window-size-telo\u001b[39m\u001b[33m\"\u001b[39m, \u001b[33m\"\u001b[39m\u001b[33m15000\u001b[39m\u001b[33m\"\u001b[39m,\n\u001b[32m     19\u001b[39m     \u001b[33m\"\u001b[39m\u001b[33m--copy-inputs\u001b[39m\u001b[33m\"\u001b[39m,\n\u001b[32m     20\u001b[39m     \u001b[33m\"\u001b[39m\u001b[33m-F\u001b[39m\u001b[33m\"\u001b[39m,\n\u001b[32m     21\u001b[39m ]\n",
      "\u001b[31mNameError\u001b[39m: name 'DATA_DIR' is not defined"
     ]
    }
   ],
   "source": [
    "DATA_DIR = \"/home/adminico/Documents/projects-data/sshicstuff/AD241_v2\"\n",
    "OUTPUT_DIR = join(DATA_DIR, \"pipeline\")\n",
    "\n",
    "ARGS = [\n",
    "    \"-m\", join(DATA_DIR, \"AD241_S288c_DSB_LY_Capture_artificial_v8_cutsite_q20_PCRfree.txt\"),\n",
    "    \"-c\", join(DATA_DIR, \"capture_oligo_positions_v12.csv\"),\n",
    "    \"-C\", join(DATA_DIR, \"S288c_chr_centro_coordinates_S288c_DSB_LY_Capture_artificial_v12.tsv\"),\n",
    "    \"-f\", join(DATA_DIR, \"fragments_list_S288c_DSB_LY_Capture_artificial_v12_DpnIIHinfI.txt\"),\n",
    "    \"-a\", join(DATA_DIR, \"additional_probe_groups.tsv\"),\n",
    "    \"-n\", \"2\",\n",
    "    \"-I\",\n",
    "    \"-N\",\n",
    "    \"-o\", OUTPUT_DIR,\n",
    "    \"-b\", \"1000\",\n",
    "    \"-b\", \"2000\",\n",
    "    \"-b\", \"5000\",\n",
    "    \"-b\", \"10000\",\n",
    "    \"--binning-aggregate-cen\", \"10000\",\n",
    "    \"--binning-aggregate-telo\", \"1000\",\n",
    "    \"--window-size-cen\", \"150000\",\n",
    "    \"--window-size-telo\", \"15000\",\n",
    "    \"--copy-inputs\",\n",
    "    \"-F\",\n",
    "]"
   ]
  },
  {
   "cell_type": "code",
   "execution_count": null,
   "id": "d4268b9c-5155-4298-87c9-21429175cac1",
   "metadata": {},
   "outputs": [],
   "source": []
  }
 ],
 "metadata": {
  "kernelspec": {
   "display_name": "Python 3 (ipykernel)",
   "language": "python",
   "name": "python3"
  },
  "language_info": {
   "codemirror_mode": {
    "name": "ipython",
    "version": 3
   },
   "file_extension": ".py",
   "mimetype": "text/x-python",
   "name": "python",
   "nbconvert_exporter": "python",
   "pygments_lexer": "ipython3",
   "version": "3.12.11"
  }
 },
 "nbformat": 4,
 "nbformat_minor": 5
}
