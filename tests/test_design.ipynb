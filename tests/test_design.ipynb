{
 "cells": [
  {
   "cell_type": "code",
   "execution_count": 8,
   "id": "cd83c4db",
   "metadata": {
    "jupyter": {
     "is_executing": true
    }
   },
   "outputs": [],
   "source": [
    "import os\n",
    "os.environ['NUMEXPR_MAX_THREADS'] = '4'\n",
    "os.environ.pop(\"MPLBACKEND\", None)\n",
    "\n",
    "import sys\n",
    "from sshicstuff import main as _entrypoint\n",
    "from Bio import SeqIO\n",
    "import pandas as pd\n",
    "from os.path import join"
   ]
  },
  {
   "cell_type": "code",
   "execution_count": 9,
   "id": "4c4f626e",
   "metadata": {
    "ExecuteTime": {
     "end_time": "2025-10-21T11:40:45.834251Z",
     "start_time": "2025-10-21T11:40:45.831289Z"
    }
   },
   "outputs": [],
   "source": [
    "## DESIGN ARGS\n",
    "DATA_DIR = \"../test_data/design-output/\"\n",
    "GENOME = \"S288c_DSB\"\n",
    "FASTA = join(\"../test_data\", GENOME, f\"{GENOME}.fa\")\n",
    "OUTPUT_SNP = join(DATA_DIR, f\"{GENOME}_LY_Capture_N_Annealing_oligos.tsv\")\n",
    "OUTPUT_RAW = join(DATA_DIR, f\"{GENOME}_LY_Capture_N_Annealing_oligos_initial.tsv\")\n",
    "\n",
    "ARGS = [\n",
    "    \"-f\", f\"{FASTA}\",\n",
    "    \"--forward-intervals\", \"chr5:118710-133000\",\n",
    "    \"--reverse-intervals\", \"chr5:100000-118710\",\n",
    "    \"--output-snp\", f\"{OUTPUT_SNP}\",\n",
    "    \"--output-raw\", f\"{OUTPUT_RAW}\",\n",
    "    \"--site\", \"GATC\",\n",
    "    \"--secondary-sites\", \"CAATTG,AATATT\",\n",
    "    \"--size\", \"80\",\n",
    "    \"--site-start\", \"70\",\n",
    "    \"--n-5-prime-deletion\", \"10\",\n",
    "    \"--n-3-prime-deletion\", \"10\",\n",
    "    \"--fragment-size\", \"150\",\n",
    "    \"--fasta-line-length\", \"80\",\n",
    "]"
   ]
  },
  {
   "cell_type": "code",
   "execution_count": 10,
   "id": "7ed30649",
   "metadata": {
    "ExecuteTime": {
     "end_time": "2025-10-21T11:26:27.588750Z",
     "start_time": "2025-10-21T11:26:25.997075Z"
    }
   },
   "outputs": [
    {
     "name": "stderr",
     "output_type": "stream",
     "text": [
      "INFO :: Running backend : oligo4sshic --fasta ../test_data/S288c_DSB/S288c_DSB.fa --forward-intervals chr5:118710-133000 --reverse-intervals chr5:100000-118710 --output-snp ../test_data/design-output/S288c_DSB_LY_Capture_N_Annealing_oligos.tsv --output-raw ../test_data/design-output/S288c_DSB_LY_Capture_N_Annealing_oligos_initial.tsv --site GATC --secondary-sites CAATTG,AATATT --size 80 --site-start 70 --no-snp-zone 5 --complementary-size 7 --snp-number 5 --tries 20\n"
     ]
    },
    {
     "name": "stdout",
     "output_type": "stream",
     "text": [
      "rerverse oligo: 44 / 90\n"
     ]
    },
    {
     "name": "stderr",
     "output_type": "stream",
     "text": [
      "INFO :: Creating the artificial chromosome with the annealing oligo and the enzyme GATC\n",
      "INFO :: Inserting the artificial chromosome at the end of the original genome .FASTA file\n",
      "INFO :: Artificial chromosome created and inserted at the end of the genome .FASTA file\n",
      "INFO :: Artificial chromosome coordinates saved to annealing_oligos_positions.csv\n",
      "INFO :: Creation of capture oligos from annealing oligos done. \n",
      "INFO :: [Design] Capture file saved to ../test_data/design-output/capture_oligos_positions.csv\n"
     ]
    }
   ],
   "source": [
    "_sys_argv = [\"sshicstuff\", \"design\"] + ARGS\n",
    "sys.argv = _sys_argv\n",
    "_entrypoint.main()"
   ]
  },
  {
   "cell_type": "code",
   "execution_count": 11,
   "id": "9f7e6d2b",
   "metadata": {
    "ExecuteTime": {
     "end_time": "2025-10-21T09:34:53.757713Z",
     "start_time": "2025-10-21T09:34:53.753036Z"
    }
   },
   "outputs": [
    {
     "name": "stdout",
     "output_type": "stream",
     "text": [
      "ID: chr_artificial_ssDNA\n",
      "Description: chr_artificial_ssDNA\t (4699 bp)\n",
      "Sequence: NNNNNNNNNNNNNNNNNNNNNNNNNNNNNNNNNNNNNNNNNNNNNNNNNNNNNNNNNNNNNNNNNNNNNNNNNGATCNNNNNNNNNNNNNNNNNNNNNNNNNNNNNNNNNNNNNNNNNNNNNNNNNNNNNNNNNNNNNNNNNNNNNNNNNNNNNNNNNNNNNNNNNNNNNNNNNNNNNNNNNNNNNNNNNNNNNNNNNNNNNNNNNNNNNNNNNNNNNNNNNNCACCCTTTCCAATAACAATAAGAATGTTTATATTTTAATCTTGCAAAATAAGCTGTACGACTTTTTTGATCTTCGACNNNNNNNNNNNNNNNNNNNNNNNNNNNNNNNNNNNNNNNNNNNNNNNNNNNNNNNNNNNNNNNNNNNNNNNNNNNNNNNNNNNNNNNNNNNNNNNNNNNNNNNNNNNNNNNNNNNNNNNNNNNNNNNNNNNNNNNNNNNNNNNNNNGATCNNNNNNNNNNNNNNNNNNNNNNNNNNNNNNNNNNNNNNNNNNNNNNNNNNNNNNNNNNNNNNNNNNNNNNNNNNNNNNNNNNNNNNNNNNNNNNNNNNNNNNNNNNNNNNNNNNNNNNNNNNNNNNNNNNNNNNNNNNNNNNNNNNATCATTTCAACATTGTCAGGGGTTAAGTTTCCGGTAAACTTCGAACATGGGGACAAAAGACTAACTTGATCCAACTCNNNNNNNNNNNNNNNNNNNNNNNNNNNNNNNNNNNNNNNNNNNNNNNNNNNNNNNNNNNNNNNNNNNNNNNNNNNNNNNNNNNNNNNNNNNNNNNNNNNNNNNNNNNNNNNNNNNNNNNNNNNNNNNNNNNNNNNNNNNNNNNNNNGATCNNNNNNNNNNNNNNNNNNNNNNNNNNNNNNNNNNNNNNNNNNNNNNNNNNNNNNNNNNNNNNNNNNNNNNNNNNNNNNNNNNNNNNNNNNNNNNNNNNNNNNNNNNNNNNNNNNNNNNNNNNNNNNNNNNNNNNNNNNNNNNNNNNCGTCATATCTGTGCTATCTCTCATCGTATTGGAAATCTTTCTAGCTCGGGTCGAAATCTTCTTTCAGGATCACGTGANNNNNNNNNNNNNNNNNNNNNNNNNNNNNNNNNNNNNNNNNNNNNNNNNNNNNNNNNNNNNNNNNNNNNNNNNNNNNNNNNNNNNNNNNNNNNNNNNNNNNNNNNNNNNNNNNNNNNNNNNNNNNNNNNNNNNNNNNNNNNNNNNNGATCNNNNNNNNNNNNNNNNNNNNNNNNNNNNNNNNNNNNNNNNNNNNNNNNNNNNNNNNNNNNNNNNNNNNNNNNNNNNNNNNNNNNNNNNNNNNNNNNNNNNNNNNNNNNNNNNNNNNNNNNNNNNNNNNNNNNNNNNNNNNNNNNNNTGAAAAATACGTCCGTCAGGTCTCTAGAGAGGTACTGGAACCCATCTTAAGATTAACGCGAAGCCAAGATCCACAGANNNNNNNNNNNNNNNNNNNNNNNNNNNNNNNNNNNNNNNNNNNNNNNNNNNNNNNNNNNNNNNNNNNNNNNNNNNNNNNNNNNNNNNNNNNNNNNNNNNNNNNNNNNNNNNNNNNNNNNNNNNNNNNNNNNNNNNNNNNNNNNNNNGATCNNNNNNNNNNNNNNNNNNNNNNNNNNNNNNNNNNNNNNNNNNNNNNNNNNNNNNNNNNNNNNNNNNNNNNNNNNNNNNNNNNNNNNNNNNNNNNNNNNNNNNNNNNNNNNNNNNNNNNNNNNNNNNNNNNNNNNNNNNNNNNNNNNTTTGAGAATATATTGTAATAAAACACAATCGATAATACAGTTCTCCCTTCGTCCCCTGATGCTGGGAGATCTATTAANNNNNNNNNNNNNNNNNNNNNNNNNNNNNNNNNNNNNNNNNNNNNNNNNNNNNNNNNNNNNNNNNNNNNNNNNNNNNNNNNNNNNNNNNNNNNNNNNNNNNNNNNNNNNNNNNNNNNNNNNNNNNNNNNNNNNNNNNNNNNNNNNNGATCNNNNNNNNNNNNNNNNNNNNNNNNNNNNNNNNNNNNNNNNNNNNNNNNNNNNNNNNNNNNNNNNNNNNNNNNNNNNNNNNNNNNNNNNNNNNNNNNNNNNNNNNNNNNNNNNNNNNNNNNNNNNNNNNNNNNNNNNNNNNNNNNNNATTGTCATAAATTGGCGCTGAAGCCTCAATTTCAACGTCGTTGGACTCTGGTGATTGTTCATGTGCAGATCCATGAGNNNNNNNNNNNNNNNNNNNNNNNNNNNNNNNNNNNNNNNNNNNNNNNNNNNNNNNNNNNNNNNNNNNNNNNNNNNNNNNNNNNNNNNNNNNNNNNNNNNNNNNNNNNNNNNNNNNNNNNNNNNNNNNNNNNNNNNNNNNNNNNNNNGATCNNNNNNNNNNNNNNNNNNNNNNNNNNNNNNNNNNNNNNNNNNNNNNNNNNNNNNNNNNNNNNNNNNNNNNNNNNNNNNNNNNNNNNNNNNNNNNNNNNNNNNNNNNNNNNNNNNNNNNNNNNNNNNNNNNNNNNNNNNNNNNNNNNAAATTTCATATGATAGTCCTAGGACCCACATGAAGTCATCATTTGTCAAAATCTTGCTGTCTGTCTTGATCGATTCANNNNNNNNNNNNNNNNNNNNNNNNNNNNNNNNNNNNNNNNNNNNNNNNNNNNNNNNNNNNNNNNNNNNNNNNNNNNNNNNNNNNNNNNNNNNNNNNNNNNNNNNNNNNNNNNNNNNNNNNNNNNNNNNNNNNNNNNNNNNNNNNNNGATCNNNNNNNNNNNNNNNNNNNNNNNNNNNNNNNNNNNNNNNNNNNNNNNNNNNNNNNNNNNNNNNNNNNNNNNNNNNNNNNNNNNNNNNNNNNNNNNNNNNNNNNNNNNNNNNNNNNNNNNNNNNNNNNNNNNNNNNNNNNNNNNNNNAAGTCTACGTACAATGCTAGTATAATTTTAACTATGTTTAACCATAATTCCTTGGAGAAGATTTTAGGATCTTTGTTNNNNNNNNNNNNNNNNNNNNNNNNNNNNNNNNNNNNNNNNNNNNNNNNNNNNNNNNNNNNNNNNNNNNNNNNNNNNNNNNNNNNNNNNNNNNNNNNNNNNNNNNNNNNNNNNNNNNNNNNNNNNNNNNNNNNNNNNNNNNNNNNNNGATCNNNNNNNNNNNNNNNNNNNNNNNNNNNNNNNNNNNNNNNNNNNNNNNNNNNNNNNNNNNNNNNNNNNNNNNNNNNNNNNNNNNNNNNNNNNNNNNNNNNNNNNNNNNNNNNNNNNNNNNNNNNNNNNNNNNNNNNNNNNNNNNNNNCAGAACTCGAGTTAATTGCGGTACCATCATCTAAAAAAACAGAAAAGATTCTAGTTAGAGTGAGCTCGATCTGTAATNNNNNNNNNNNNNNNNNNNNNNNNNNNNNNNNNNNNNNNNNNNNNNNNNNNNNNNNNNNNNNNNNNNNNNNNNNNNNNNNNNNNNNNNNNNNNNNNNNNNNNNNNNNNNNNNNNNNNNNNNNNNNNNNNNNNNNNNNNNNNNNNNNGATCNNNNNNNNNNNNNNNNNNNNNNNNNNNNNNNNNNNNNNNNNNNNNNNNNNNNNNNNNNNNNNNNNNNNNNNNNNNNNNNNNNNNNNNNNNNNNNNNNNNNNNNNNNNNNNNNNNNNNNNNNNNNNNNNNNNNNNNNNNNNNNNNNNATGATAGTAATAAGTTTAAATAGTGGCTAACCACGGGCAATCCATAGTTACTCTCAGCATACGCTTGGATCCTGGAANNNNNNNNNNNNNNNNNNNNNNNNNNNNNNNNNNNNNNNNNNNNNNNNNNNNNNNNNNNNNNNNNNNNNNNNNNNNNNNNNNNNNNNNNNNNNNNNNNNNNNNNNNNNNNNNNNNNNNNNNNNNNNNNNNNNNNNNNNNNNNNNNNGATCNNNNNNNNNNNNNNNNNNNNNNNNNNNNNNNNNNNNNNNNNNNNNNNNNNNNNNNNNNNNNNNNNNNNNNNNNNNNNNNNNNNNNNNNNNNNNNNNNNNNNNNNNNNNNNNNNNNNNNNNNNNNNNNNNNNNNNNNNNNNNNNNNNAGTGATAAGAACTATCTATTAGGTCGGTCAGCAGACCTTTCTTGTTCAACGTTGAAATATGCCAATAGATCTTATGTNNNNNNNNNNNNNNNNNNNNNNNNNNNNNNNNNNNNNNNNNNNNNNNNNNNNNNNNNNNNNNNNNNNNNNNNNNNNNNNNNNNNNNNNNNNNNNNNNNNNNNNNNNNNNNNNNNNNNNNNNNNNNNNNNNNNNNNNNNNNNNNNNNGATCNNNNNNNNNNNNNNNNNNNNNNNNNNNNNNNNNNNNNNNNNNNNNNNNNNNNNNNNNNNNNNNNNNNNNNNNNNNNNNNNNNNNNNNNNNNNNNNNNNNNNNNNNNNNNNNNNNNNNNNNNNNNNNNNNNNNNNNNNNNNNNNNNNATACAATAGACTACTTTAACAATAAAAGGTGATAAGGTTGGGCTTCTTTTAAGAGTACAGGTATAGTGATCTCATCGNNNNNNNNNNNNNNNNNNNNNNNNNNNNNNNNNNNNNNNNNNNNNNNNNNNNNNNNNNNNNNNNNNNNNNNNNNNNNNNNNNNNNNNNNNNNNNNNNNNNNNNNNNNNNNNNNNNNNNNNNNNNNNNNNNNNNNNNNNNNNNNNNNGATCNNNNNNNNNNNNNNNNNNNNNNNNNNNNNNNNNNNNNNNNNNNNNNNNNNNNNNNNNNNNNNNNNNNNNNNNNNNNNNNNNNNNNNNNNNNNNNNNNNNNNNNNNNNNNNNNNNNNNNNNNNNNNNNNNNNNNNNNNNNNNNNNNN\n"
     ]
    }
   ],
   "source": [
    "chr_artificial_path = join(DATA_DIR, f\"chr_artificial_ssDNA.fa\")\n",
    "for record in SeqIO.parse(chr_artificial_path, \"fasta\"):\n",
    "    print(f\"ID: {record.id}\")\n",
    "    print(f\"Description: {record.description}\")\n",
    "    print(f\"Sequence: {record.seq}\")"
   ]
  },
  {
   "cell_type": "code",
   "execution_count": 18,
   "id": "92faf6f9",
   "metadata": {
    "ExecuteTime": {
     "end_time": "2025-10-21T09:51:59.448290Z",
     "start_time": "2025-10-21T09:51:59.440079Z"
    }
   },
   "outputs": [],
   "source": [
    "annealing_oligos_path = join(DATA_DIR, \"annealing_oligos_positions.csv\")\n",
    "capture_oligos_path = join(DATA_DIR, \"capture_oligos_positions.csv\")\n",
    "df_annealing = pd.read_csv(annealing_oligos_path, sep=\",\", header=0)\n",
    "df_capture = pd.read_csv(capture_oligos_path, sep=\",\", header=0)"
   ]
  },
  {
   "cell_type": "code",
   "execution_count": 19,
   "id": "135c9127",
   "metadata": {
    "ExecuteTime": {
     "end_time": "2025-10-21T09:51:37.786730Z",
     "start_time": "2025-10-21T09:51:37.776175Z"
    }
   },
   "outputs": [
    {
     "data": {
      "text/html": [
       "<div>\n",
       "<style scoped>\n",
       "    .dataframe tbody tr th:only-of-type {\n",
       "        vertical-align: middle;\n",
       "    }\n",
       "\n",
       "    .dataframe tbody tr th {\n",
       "        vertical-align: top;\n",
       "    }\n",
       "\n",
       "    .dataframe thead th {\n",
       "        text-align: right;\n",
       "    }\n",
       "</style>\n",
       "<table border=\"1\" class=\"dataframe\">\n",
       "  <thead>\n",
       "    <tr style=\"text-align: right;\">\n",
       "      <th></th>\n",
       "      <th>chr</th>\n",
       "      <th>start</th>\n",
       "      <th>end</th>\n",
       "      <th>length</th>\n",
       "      <th>chr_ori</th>\n",
       "      <th>start_ori</th>\n",
       "      <th>end_ori</th>\n",
       "      <th>orientation</th>\n",
       "      <th>type</th>\n",
       "      <th>name</th>\n",
       "      <th>sequence_original</th>\n",
       "      <th>sequence_modified</th>\n",
       "    </tr>\n",
       "  </thead>\n",
       "  <tbody>\n",
       "    <tr>\n",
       "      <th>0</th>\n",
       "      <td>chr_artificial_ssDNA</td>\n",
       "      <td>73</td>\n",
       "      <td>446</td>\n",
       "      <td>373</td>\n",
       "      <td>chr5</td>\n",
       "      <td>121385.0</td>\n",
       "      <td>121464.0</td>\n",
       "      <td>w</td>\n",
       "      <td>ss</td>\n",
       "      <td>Probe_chr5_w_121385_121464</td>\n",
       "      <td>CCGCACCCTTTCCAATAACAATCAGAATATTTTTATTTTTATGTTG...</td>\n",
       "      <td>CCGCACCCTTTCCAATAACAATAAGAATGTTTATATTTTAATCTTG...</td>\n",
       "    </tr>\n",
       "    <tr>\n",
       "      <th>1</th>\n",
       "      <td>chr_artificial_ssDNA</td>\n",
       "      <td>446</td>\n",
       "      <td>819</td>\n",
       "      <td>373</td>\n",
       "      <td>chr5</td>\n",
       "      <td>121624.0</td>\n",
       "      <td>121703.0</td>\n",
       "      <td>w</td>\n",
       "      <td>ss</td>\n",
       "      <td>Probe_chr5_w_121624_121703</td>\n",
       "      <td>GTAATCATGTCAATATTGTCAGGGGTTAACTTTCCGGTAAACTTCA...</td>\n",
       "      <td>GTAATCATTTCAACATTGTCAGGGGTTAAGTTTCCGGTAAACTTCG...</td>\n",
       "    </tr>\n",
       "    <tr>\n",
       "      <th>2</th>\n",
       "      <td>chr_artificial_ssDNA</td>\n",
       "      <td>819</td>\n",
       "      <td>1192</td>\n",
       "      <td>373</td>\n",
       "      <td>chr5</td>\n",
       "      <td>126743.0</td>\n",
       "      <td>126822.0</td>\n",
       "      <td>w</td>\n",
       "      <td>ss</td>\n",
       "      <td>Probe_chr5_w_126743_126822</td>\n",
       "      <td>TATCGTCATATCTGTGCTTTCTGTTATCGTATTGGAAATATTTCCA...</td>\n",
       "      <td>TATCGTCATATCTGTGCTATCTCTCATCGTATTGGAAATCTTTCTA...</td>\n",
       "    </tr>\n",
       "    <tr>\n",
       "      <th>3</th>\n",
       "      <td>chr_artificial_ssDNA</td>\n",
       "      <td>1192</td>\n",
       "      <td>1565</td>\n",
       "      <td>373</td>\n",
       "      <td>chr5</td>\n",
       "      <td>130786.0</td>\n",
       "      <td>130865.0</td>\n",
       "      <td>w</td>\n",
       "      <td>ss</td>\n",
       "      <td>Probe_chr5_w_130786_130865</td>\n",
       "      <td>TACTGAAAAATACGTCCGTCAGGTCTCTAGAGAGGTACTGGAACCC...</td>\n",
       "      <td>TACTGAAAAATACGTCCGTCAGGTCTCTAGAGAGGTACTGGAACCC...</td>\n",
       "    </tr>\n",
       "    <tr>\n",
       "      <th>4</th>\n",
       "      <td>chr_artificial_ssDNA</td>\n",
       "      <td>1565</td>\n",
       "      <td>1938</td>\n",
       "      <td>373</td>\n",
       "      <td>chr5</td>\n",
       "      <td>132710.0</td>\n",
       "      <td>132789.0</td>\n",
       "      <td>w</td>\n",
       "      <td>ss</td>\n",
       "      <td>Probe_chr5_w_132710_132789</td>\n",
       "      <td>CGTTTTTAGAATATATTGTAATAAAACACAATTGATAATACAGTTC...</td>\n",
       "      <td>CGTTTTGAGAATATATTGTAATAAAACACAATCGATAATACAGTTC...</td>\n",
       "    </tr>\n",
       "  </tbody>\n",
       "</table>\n",
       "</div>"
      ],
      "text/plain": [
       "                    chr  start   end  length chr_ori  start_ori   end_ori  \\\n",
       "0  chr_artificial_ssDNA     73   446     373    chr5   121385.0  121464.0   \n",
       "1  chr_artificial_ssDNA    446   819     373    chr5   121624.0  121703.0   \n",
       "2  chr_artificial_ssDNA    819  1192     373    chr5   126743.0  126822.0   \n",
       "3  chr_artificial_ssDNA   1192  1565     373    chr5   130786.0  130865.0   \n",
       "4  chr_artificial_ssDNA   1565  1938     373    chr5   132710.0  132789.0   \n",
       "\n",
       "  orientation type                        name  \\\n",
       "0           w   ss  Probe_chr5_w_121385_121464   \n",
       "1           w   ss  Probe_chr5_w_121624_121703   \n",
       "2           w   ss  Probe_chr5_w_126743_126822   \n",
       "3           w   ss  Probe_chr5_w_130786_130865   \n",
       "4           w   ss  Probe_chr5_w_132710_132789   \n",
       "\n",
       "                                   sequence_original  \\\n",
       "0  CCGCACCCTTTCCAATAACAATCAGAATATTTTTATTTTTATGTTG...   \n",
       "1  GTAATCATGTCAATATTGTCAGGGGTTAACTTTCCGGTAAACTTCA...   \n",
       "2  TATCGTCATATCTGTGCTTTCTGTTATCGTATTGGAAATATTTCCA...   \n",
       "3  TACTGAAAAATACGTCCGTCAGGTCTCTAGAGAGGTACTGGAACCC...   \n",
       "4  CGTTTTTAGAATATATTGTAATAAAACACAATTGATAATACAGTTC...   \n",
       "\n",
       "                                   sequence_modified  \n",
       "0  CCGCACCCTTTCCAATAACAATAAGAATGTTTATATTTTAATCTTG...  \n",
       "1  GTAATCATTTCAACATTGTCAGGGGTTAAGTTTCCGGTAAACTTCG...  \n",
       "2  TATCGTCATATCTGTGCTATCTCTCATCGTATTGGAAATCTTTCTA...  \n",
       "3  TACTGAAAAATACGTCCGTCAGGTCTCTAGAGAGGTACTGGAACCC...  \n",
       "4  CGTTTTGAGAATATATTGTAATAAAACACAATCGATAATACAGTTC...  "
      ]
     },
     "execution_count": 19,
     "metadata": {},
     "output_type": "execute_result"
    }
   ],
   "source": [
    "df_annealing.head()"
   ]
  },
  {
   "cell_type": "code",
   "execution_count": 20,
   "id": "3a362271",
   "metadata": {
    "ExecuteTime": {
     "end_time": "2025-10-21T09:52:00.824300Z",
     "start_time": "2025-10-21T09:52:00.817451Z"
    }
   },
   "outputs": [
    {
     "data": {
      "text/html": [
       "<div>\n",
       "<style scoped>\n",
       "    .dataframe tbody tr th:only-of-type {\n",
       "        vertical-align: middle;\n",
       "    }\n",
       "\n",
       "    .dataframe tbody tr th {\n",
       "        vertical-align: top;\n",
       "    }\n",
       "\n",
       "    .dataframe thead th {\n",
       "        text-align: right;\n",
       "    }\n",
       "</style>\n",
       "<table border=\"1\" class=\"dataframe\">\n",
       "  <thead>\n",
       "    <tr style=\"text-align: right;\">\n",
       "      <th></th>\n",
       "      <th>chr</th>\n",
       "      <th>start</th>\n",
       "      <th>end</th>\n",
       "      <th>chr_ori</th>\n",
       "      <th>start_ori</th>\n",
       "      <th>end_ori</th>\n",
       "      <th>orientation</th>\n",
       "      <th>type</th>\n",
       "      <th>name</th>\n",
       "      <th>sequence</th>\n",
       "    </tr>\n",
       "  </thead>\n",
       "  <tbody>\n",
       "    <tr>\n",
       "      <th>0</th>\n",
       "      <td>chr_artificial_ssDNA</td>\n",
       "      <td>73</td>\n",
       "      <td>446</td>\n",
       "      <td>chr5</td>\n",
       "      <td>121385.0</td>\n",
       "      <td>121464.0</td>\n",
       "      <td>w</td>\n",
       "      <td>ss</td>\n",
       "      <td>Probe_chr5_w_121385_121464</td>\n",
       "      <td>TCCAATAACAATAAGAATGTTTATATTTTAATCTTGCAAAATAAGC...</td>\n",
       "    </tr>\n",
       "    <tr>\n",
       "      <th>1</th>\n",
       "      <td>chr_artificial_ssDNA</td>\n",
       "      <td>446</td>\n",
       "      <td>819</td>\n",
       "      <td>chr5</td>\n",
       "      <td>121624.0</td>\n",
       "      <td>121703.0</td>\n",
       "      <td>w</td>\n",
       "      <td>ss</td>\n",
       "      <td>Probe_chr5_w_121624_121703</td>\n",
       "      <td>CAACATTGTCAGGGGTTAAGTTTCCGGTAAACTTCGAACATGGGGA...</td>\n",
       "    </tr>\n",
       "    <tr>\n",
       "      <th>2</th>\n",
       "      <td>chr_artificial_ssDNA</td>\n",
       "      <td>819</td>\n",
       "      <td>1192</td>\n",
       "      <td>chr5</td>\n",
       "      <td>126743.0</td>\n",
       "      <td>126822.0</td>\n",
       "      <td>w</td>\n",
       "      <td>ss</td>\n",
       "      <td>Probe_chr5_w_126743_126822</td>\n",
       "      <td>TCTGTGCTATCTCTCATCGTATTGGAAATCTTTCTAGCTCGGGTCG...</td>\n",
       "    </tr>\n",
       "    <tr>\n",
       "      <th>3</th>\n",
       "      <td>chr_artificial_ssDNA</td>\n",
       "      <td>1192</td>\n",
       "      <td>1565</td>\n",
       "      <td>chr5</td>\n",
       "      <td>130786.0</td>\n",
       "      <td>130865.0</td>\n",
       "      <td>w</td>\n",
       "      <td>ss</td>\n",
       "      <td>Probe_chr5_w_130786_130865</td>\n",
       "      <td>TACGTCCGTCAGGTCTCTAGAGAGGTACTGGAACCCATCTTAAGAT...</td>\n",
       "    </tr>\n",
       "    <tr>\n",
       "      <th>4</th>\n",
       "      <td>chr_artificial_ssDNA</td>\n",
       "      <td>1565</td>\n",
       "      <td>1938</td>\n",
       "      <td>chr5</td>\n",
       "      <td>132710.0</td>\n",
       "      <td>132789.0</td>\n",
       "      <td>w</td>\n",
       "      <td>ss</td>\n",
       "      <td>Probe_chr5_w_132710_132789</td>\n",
       "      <td>ATATATTGTAATAAAACACAATCGATAATACAGTTCTCCCTTCGTC...</td>\n",
       "    </tr>\n",
       "  </tbody>\n",
       "</table>\n",
       "</div>"
      ],
      "text/plain": [
       "                    chr  start   end chr_ori  start_ori   end_ori orientation  \\\n",
       "0  chr_artificial_ssDNA     73   446    chr5   121385.0  121464.0           w   \n",
       "1  chr_artificial_ssDNA    446   819    chr5   121624.0  121703.0           w   \n",
       "2  chr_artificial_ssDNA    819  1192    chr5   126743.0  126822.0           w   \n",
       "3  chr_artificial_ssDNA   1192  1565    chr5   130786.0  130865.0           w   \n",
       "4  chr_artificial_ssDNA   1565  1938    chr5   132710.0  132789.0           w   \n",
       "\n",
       "  type                        name  \\\n",
       "0   ss  Probe_chr5_w_121385_121464   \n",
       "1   ss  Probe_chr5_w_121624_121703   \n",
       "2   ss  Probe_chr5_w_126743_126822   \n",
       "3   ss  Probe_chr5_w_130786_130865   \n",
       "4   ss  Probe_chr5_w_132710_132789   \n",
       "\n",
       "                                            sequence  \n",
       "0  TCCAATAACAATAAGAATGTTTATATTTTAATCTTGCAAAATAAGC...  \n",
       "1  CAACATTGTCAGGGGTTAAGTTTCCGGTAAACTTCGAACATGGGGA...  \n",
       "2  TCTGTGCTATCTCTCATCGTATTGGAAATCTTTCTAGCTCGGGTCG...  \n",
       "3  TACGTCCGTCAGGTCTCTAGAGAGGTACTGGAACCCATCTTAAGAT...  \n",
       "4  ATATATTGTAATAAAACACAATCGATAATACAGTTCTCCCTTCGTC...  "
      ]
     },
     "execution_count": 20,
     "metadata": {},
     "output_type": "execute_result"
    }
   ],
   "source": [
    "df_capture.head()"
   ]
  },
  {
   "cell_type": "code",
   "execution_count": null,
   "id": "cd80bf86",
   "metadata": {},
   "outputs": [],
   "source": []
  }
 ],
 "metadata": {
  "kernelspec": {
   "display_name": "Python (sshicstuff_env)",
   "language": "python",
   "name": "sshicstuff_env"
  },
  "language_info": {
   "codemirror_mode": {
    "name": "ipython",
    "version": 3
   },
   "file_extension": ".py",
   "mimetype": "text/x-python",
   "name": "python",
   "nbconvert_exporter": "python",
   "pygments_lexer": "ipython3",
   "version": "3.12.11"
  }
 },
 "nbformat": 4,
 "nbformat_minor": 5
}
